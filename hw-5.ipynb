{
 "cells": [
  {
   "cell_type": "code",
   "execution_count": null,
   "metadata": {},
   "outputs": [],
   "source": [
    "%matplotlib inline\n",
    "import numpy as np\n",
    "import matplotlib.pyplot as plt"
   ]
  },
  {
   "cell_type": "code",
   "execution_count": null,
   "metadata": {},
   "outputs": [],
   "source": [
    "def func(x):\n",
    "    return np.e**((-2)*x) * np.cos(10*x)"
   ]
  },
  {
   "cell_type": "code",
   "execution_count": null,
   "metadata": {},
   "outputs": [],
   "source": [
    "def func_integral(x):\n",
    "    return (np.e**((-2)*x) * (5 * np.sin(10*x) - np.cos(10*x))) / 52"
   ]
  },
  {
   "cell_type": "code",
   "execution_count": null,
   "metadata": {},
   "outputs": [],
   "source": [
    "def trapezoid_core(f,x,h):\n",
    "    return 0.5*h*(f(x+h) + f(x))"
   ]
  },
  {
   "cell_type": "code",
   "execution_count": null,
   "metadata": {},
   "outputs": [],
   "source": [
    "def trapezoid_method(f,a,b,N):\n",
    "    \n",
    "    x = np.linspace(a,b,N)\n",
    "    h = x[1]-x[0]\n",
    "    \n",
    "    Fint = 0.0\n",
    "    \n",
    "    #integral\n",
    "    for i in range(0,len(x)-1,1):\n",
    "        Fint += trapezoid_core(f,x[i],h)\n",
    "            \n",
    "    return Fint"
   ]
  },
  {
   "cell_type": "code",
   "execution_count": null,
   "metadata": {},
   "outputs": [],
   "source": [
    "def simpson_core(f,x,h):\n",
    "    return h*(f(x) + 4*f(x+h) + f(x+2*h)) / 3.0"
   ]
  },
  {
   "cell_type": "code",
   "execution_count": null,
   "metadata": {},
   "outputs": [],
   "source": [
    "def simpson_method(f,a,b,N):\n",
    "    \n",
    "    x = np.linspace(a,b,N)\n",
    "    h = x[1]-x[0]\n",
    "    \n",
    "    Fint = 0.0\n",
    "    \n",
    "    #integral\n",
    "    for i in range(0,len(x)-2,2):\n",
    "        Fint += trapezoid_core(f,x[i],h)\n",
    "        \n",
    "    if((N%2)==0):\n",
    "        Fint += simpson_core(f,x[-2],0.5*h)\n",
    "        \n",
    "    return Fint"
   ]
  },
  {
   "cell_type": "code",
   "execution_count": null,
   "metadata": {},
   "outputs": [],
   "source": [
    "def romberg_core(f,a,b,i):\n",
    "    \n",
    "    #difference\n",
    "    h= b - a\n",
    "    \n",
    "    #increment\n",
    "    dh = h / 2.0**(i)\n",
    "    \n",
    "    #cofactor\n",
    "    K = h / 2.0**(i+1)\n",
    "    \n",
    "    #function evaluation\n",
    "    M = 0.0\n",
    "    for j in range(2**i):\n",
    "        M += f(a + 0.5*dh + j*dh)\n",
    "        \n",
    "    return K*M"
   ]
  },
  {
   "cell_type": "code",
   "execution_count": null,
   "metadata": {},
   "outputs": [],
   "source": [
    "def romberg_integration(f,a,b,tol):\n",
    "    \n",
    "    i = 0 \n",
    "    imax = 1000\n",
    "    global i_tot\n",
    "    i_tot = []\n",
    "    \n",
    "    #error estimate\n",
    "    delta = 100.0*np.fabs(tol)\n",
    "    \n",
    "    #array of integral answers\n",
    "    I = np.zeros(imax,dtype=float)\n",
    "    \n",
    "    I[0] = 0.5 * (b-a) * (f(a) + f(b))\n",
    "    \n",
    "    i += 1\n",
    "    i_tot.append(i)\n",
    "    \n",
    "    while(delta>tol):\n",
    "        \n",
    "        I[i] = 0.5 * I[i-1] + romberg_core(f,a,b,i)\n",
    "        delta = np.fabs((I[i]-I[i-1])/I[i])\n",
    "        \n",
    "        print(i,I[i],I[i-1],delta)\n",
    "        \n",
    "        if(delta>tol):\n",
    "            \n",
    "            i += 1\n",
    "            i_tot.append(i)\n",
    "            \n",
    "            if(i>imax):\n",
    "                print(\"Max iterations reached.\")\n",
    "                raise StopIteration(\"Stopping iterations after \",i)\n",
    "                \n",
    "    return i_tot           \n",
    "    return I[i]"
   ]
  },
  {
   "cell_type": "code",
   "execution_count": null,
   "metadata": {},
   "outputs": [],
   "source": [
    "tolerance = 1.0e-6\n",
    "\n",
    "Answer = func_integral(np.pi)-func_integral(0)\n",
    "print(Answer)\n",
    "\n",
    "print(\"Trapezoid:\")\n",
    "print(trapezoid_method(func,0,np.pi,1200))\n",
    "print(\"Trapezoid intervals for tolerance = 1200\")\n",
    "\n",
    "print(\"Simpson's:\")\n",
    "print(simpson_method(func,0,np.pi,84))\n",
    "print(\"Simpson's intervals for result closest to tolerance = 84\")\n",
    "\n",
    "print(\"Romberg:\")\n",
    "RI = romberg_integration(func,0,np.pi,tolerance)\n",
    "print(RI)\n",
    "s = \"Number of Romberg iterations for tolerance: \" + str(len(i_tot))\n",
    "print(s)"
   ]
  }
 ],
 "metadata": {
  "kernelspec": {
   "display_name": "Python 3",
   "language": "python",
   "name": "python3"
  },
  "language_info": {
   "codemirror_mode": {
    "name": "ipython",
    "version": 3
   },
   "file_extension": ".py",
   "mimetype": "text/x-python",
   "name": "python",
   "nbconvert_exporter": "python",
   "pygments_lexer": "ipython3",
   "version": "3.8.5"
  }
 },
 "nbformat": 4,
 "nbformat_minor": 4
}
